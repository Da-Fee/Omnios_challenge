{
 "cells": [
  {
   "cell_type": "markdown",
   "id": "legitimate-public",
   "metadata": {
    "toc": true
   },
   "source": [
    "<h1>Table of Contents<span class=\"tocSkip\"></span></h1>\n",
    "<div class=\"toc\"><ul class=\"toc-item\"><li><span><a href=\"#Table-Creation\" data-toc-modified-id=\"Table-Creation-1\">Table Creation</a></span></li><li><span><a href=\"#DataBase-creation\" data-toc-modified-id=\"DataBase-creation-2\">DataBase creation</a></span></li><li><span><a href=\"#Querying-the-database\" data-toc-modified-id=\"Querying-the-database-3\">Querying the database</a></span></li><li><span><a href=\"#Deployment\" data-toc-modified-id=\"Deployment-4\">Deployment</a></span></li></ul></div>"
   ]
  },
  {
   "cell_type": "code",
   "execution_count": 3,
   "id": "flexible-small",
   "metadata": {},
   "outputs": [],
   "source": [
    "import requests\n",
    "import pandas as pd\n",
    "from bs4 import BeautifulSoup\n",
    "from urllib.parse import urljoin"
   ]
  },
  {
   "cell_type": "markdown",
   "id": "danish-software",
   "metadata": {},
   "source": [
    "### Table Creation"
   ]
  },
  {
   "cell_type": "code",
   "execution_count": 51,
   "id": "sealed-homework",
   "metadata": {},
   "outputs": [],
   "source": [
    "# Retrieving data for table1"
   ]
  },
  {
   "cell_type": "code",
   "execution_count": 52,
   "id": "flying-vegetation",
   "metadata": {},
   "outputs": [],
   "source": [
    "base_url = 'https://books.toscrape.com/catalogue/'"
   ]
  },
  {
   "cell_type": "code",
   "execution_count": 66,
   "id": "amended-donna",
   "metadata": {},
   "outputs": [],
   "source": [
    "titles = []\n",
    "stars = []\n",
    "prices = []\n",
    "pic_urls = []"
   ]
  },
  {
   "cell_type": "code",
   "execution_count": null,
   "id": "prime-conspiracy",
   "metadata": {},
   "outputs": [],
   "source": []
  },
  {
   "cell_type": "code",
   "execution_count": 65,
   "id": "limited-iraqi",
   "metadata": {},
   "outputs": [],
   "source": [
    "def retrieve_stars(li):\n",
    "    \n",
    "    try:\n",
    "        star = li.get('class')[1] \n",
    "        return star\n",
    "    except:\n",
    "        return \"star number not retrieved\"\n",
    "    "
   ]
  },
  {
   "cell_type": "code",
   "execution_count": 73,
   "id": "thousand-prior",
   "metadata": {},
   "outputs": [],
   "source": [
    "class My_book():\n",
    "    \n",
    "    def __init__(self, title, price_gbp, star):\n",
    "        self.title = title\n",
    "        self.price_gbp = price_gbp\n",
    "        self.star = star\n",
    "        \n",
    "    \n",
    "    def convert_to_EUR(self):\n",
    "        return self.price_gbp*1.19"
   ]
  },
  {
   "cell_type": "code",
   "execution_count": 75,
   "id": "premier-difference",
   "metadata": {},
   "outputs": [],
   "source": [
    "book1 = My_book('little prince', 65, 5)"
   ]
  },
  {
   "cell_type": "code",
   "execution_count": 76,
   "id": "unique-executive",
   "metadata": {},
   "outputs": [
    {
     "data": {
      "text/plain": [
       "'little prince'"
      ]
     },
     "execution_count": 76,
     "metadata": {},
     "output_type": "execute_result"
    }
   ],
   "source": [
    "book1.title"
   ]
  },
  {
   "cell_type": "code",
   "execution_count": 78,
   "id": "initial-scroll",
   "metadata": {},
   "outputs": [
    {
     "data": {
      "text/plain": [
       "65"
      ]
     },
     "execution_count": 78,
     "metadata": {},
     "output_type": "execute_result"
    }
   ],
   "source": [
    "book1.price_gbp"
   ]
  },
  {
   "cell_type": "code",
   "execution_count": 80,
   "id": "obvious-battle",
   "metadata": {},
   "outputs": [
    {
     "data": {
      "text/plain": [
       "77.35"
      ]
     },
     "execution_count": 80,
     "metadata": {},
     "output_type": "execute_result"
    }
   ],
   "source": [
    "book1.convert_to_EUR()"
   ]
  },
  {
   "cell_type": "code",
   "execution_count": null,
   "id": "silver-morgan",
   "metadata": {},
   "outputs": [],
   "source": [
    "for page in range(1,51):\n",
    "    \n",
    "    page_url = urljoin(base_url, f'page-{page}.html')\n",
    "    \n",
    "    response = requests.get(page_url)\n",
    "    response.status_code\n",
    "    \n",
    "    if response.status_code == 200:\n",
    "        print(f'Scraping page #{page} at url: {page_url}.')\n",
    "        html = response.content\n",
    "        soup = BeautifulSoup(html, 'lxml')\n",
    "        uls = soup.find_all('li', class_='col-xs-6 col-sm-4 col-md-3 col-lg-3')\n",
    "        pages_titles = []\n",
    "        pages_stars = []\n",
    "        pages_prices = []\n",
    "        page_pic_urls = []\n",
    "        \n",
    "        for ul in uls:\n",
    "            title = ul.find_all('a')[1]['title']\n",
    "            star = ul.find_all('p')[0].get('class')[1]\n",
    "            price = ul.find_all('p')[1].text\n",
    "            pic_url_ending = ul.find_all('img')[0]['src']\n",
    "            \n",
    "            \n",
    "            list(map(My_book(title, price, star), ))\n",
    "            \n",
    "            \n",
    "            pages_titles.append(title)  \n",
    "        \n",
    "            star = ul.find_all('p')[0].get('class')[1]\n",
    "            pages_stars.append(star)\n",
    "            \n",
    "            price = ul.find_all('p')[1].text\n",
    "            pages_prices.append(price)\n",
    "            \n",
    "            pic_url_ending = ul.find_all('img')[0]['src']\n",
    "            full_pic_url = base_url+pic_url_ending\n",
    "            page_pic_urls.append(full_pic_url)\n",
    "            \n",
    "        \n",
    "        titles.extend(pages_titles)\n",
    "        stars.extend(pages_stars)\n",
    "        prices.extend(pages_prices)\n",
    "        pic_urls.extend(page_pic_urls)\n",
    "        \n",
    "    else:\n",
    "        print(f'Url #{i} ({page_url}) is throwing an error. Skipping to url #{i+1}')"
   ]
  },
  {
   "cell_type": "code",
   "execution_count": null,
   "id": "discrete-pottery",
   "metadata": {},
   "outputs": [],
   "source": [
    "books = []\n",
    "\n"
   ]
  },
  {
   "cell_type": "code",
   "execution_count": null,
   "id": "different-technician",
   "metadata": {},
   "outputs": [],
   "source": []
  },
  {
   "cell_type": "code",
   "execution_count": null,
   "id": "compressed-orchestra",
   "metadata": {},
   "outputs": [],
   "source": []
  },
  {
   "cell_type": "code",
   "execution_count": null,
   "id": "dried-console",
   "metadata": {},
   "outputs": [],
   "source": []
  },
  {
   "cell_type": "code",
   "execution_count": null,
   "id": "prerequisite-tobacco",
   "metadata": {},
   "outputs": [],
   "source": []
  },
  {
   "cell_type": "code",
   "execution_count": null,
   "id": "touched-pantyhose",
   "metadata": {},
   "outputs": [],
   "source": []
  },
  {
   "cell_type": "code",
   "execution_count": null,
   "id": "juvenile-dealer",
   "metadata": {},
   "outputs": [],
   "source": []
  },
  {
   "cell_type": "code",
   "execution_count": null,
   "id": "herbal-circular",
   "metadata": {},
   "outputs": [],
   "source": []
  },
  {
   "cell_type": "code",
   "execution_count": null,
   "id": "wicked-proportion",
   "metadata": {},
   "outputs": [],
   "source": []
  },
  {
   "cell_type": "code",
   "execution_count": null,
   "id": "reverse-edinburgh",
   "metadata": {},
   "outputs": [],
   "source": []
  },
  {
   "cell_type": "code",
   "execution_count": null,
   "id": "double-discretion",
   "metadata": {},
   "outputs": [],
   "source": []
  },
  {
   "cell_type": "code",
   "execution_count": null,
   "id": "terminal-brass",
   "metadata": {},
   "outputs": [],
   "source": []
  },
  {
   "cell_type": "code",
   "execution_count": null,
   "id": "subtle-functionality",
   "metadata": {},
   "outputs": [],
   "source": [
    "for page in range(1,51):\n",
    "    \n",
    "    page_url = urljoin(base_url, f'page-{page}.html')\n",
    "    \n",
    "    response = requests.get(page_url)\n",
    "    response.status_code\n",
    "    \n",
    "    if response.status_code == 200:\n",
    "        print(f'Scraping page #{page} at url: {page_url}.')\n",
    "        html = response.content\n",
    "        soup = BeautifulSoup(html, 'lxml')\n",
    "        uls = soup.find_all('li', class_='col-xs-6 col-sm-4 col-md-3 col-lg-3')\n",
    "        pages_titles = []\n",
    "        pages_stars = []\n",
    "        pages_prices = []\n",
    "        page_pic_urls = []\n",
    "        \n",
    "        for ul in uls:\n",
    "            title = ul.find_all('a')[1]['title']\n",
    "            pages_titles.append(title)  \n",
    "        \n",
    "            star = ul.find_all('p')[0].get('class')[1]\n",
    "            pages_stars.append(star)\n",
    "            \n",
    "            price = ul.find_all('p')[1].text\n",
    "            pages_prices.append(price)\n",
    "            \n",
    "            pic_url_ending = ul.find_all('img')[0]['src']\n",
    "            full_pic_url = base_url+pic_url_ending\n",
    "            page_pic_urls.append(full_pic_url)\n",
    "            \n",
    "        \n",
    "        titles.extend(pages_titles)\n",
    "        stars.extend(pages_stars)\n",
    "        prices.extend(pages_prices)\n",
    "        pic_urls.extend(page_pic_urls)\n",
    "        \n",
    "    else:\n",
    "        print(f'Url #{i} ({page_url}) is throwing an error. Skipping to url #{i+1}')"
   ]
  },
  {
   "cell_type": "code",
   "execution_count": null,
   "id": "pressing-square",
   "metadata": {},
   "outputs": [],
   "source": []
  },
  {
   "cell_type": "code",
   "execution_count": 67,
   "id": "numerous-motorcycle",
   "metadata": {},
   "outputs": [
    {
     "name": "stdout",
     "output_type": "stream",
     "text": [
      "Scraping page #1 at url: https://books.toscrape.com/catalogue/page-1.html.\n",
      "Scraping page #2 at url: https://books.toscrape.com/catalogue/page-2.html.\n",
      "Scraping page #3 at url: https://books.toscrape.com/catalogue/page-3.html.\n",
      "Scraping page #4 at url: https://books.toscrape.com/catalogue/page-4.html.\n",
      "Scraping page #5 at url: https://books.toscrape.com/catalogue/page-5.html.\n",
      "Scraping page #6 at url: https://books.toscrape.com/catalogue/page-6.html.\n",
      "Scraping page #7 at url: https://books.toscrape.com/catalogue/page-7.html.\n",
      "Scraping page #8 at url: https://books.toscrape.com/catalogue/page-8.html.\n",
      "Scraping page #9 at url: https://books.toscrape.com/catalogue/page-9.html.\n",
      "Scraping page #10 at url: https://books.toscrape.com/catalogue/page-10.html.\n",
      "Scraping page #11 at url: https://books.toscrape.com/catalogue/page-11.html.\n",
      "Scraping page #12 at url: https://books.toscrape.com/catalogue/page-12.html.\n",
      "Scraping page #13 at url: https://books.toscrape.com/catalogue/page-13.html.\n",
      "Scraping page #14 at url: https://books.toscrape.com/catalogue/page-14.html.\n",
      "Scraping page #15 at url: https://books.toscrape.com/catalogue/page-15.html.\n",
      "Scraping page #16 at url: https://books.toscrape.com/catalogue/page-16.html.\n",
      "Scraping page #17 at url: https://books.toscrape.com/catalogue/page-17.html.\n",
      "Scraping page #18 at url: https://books.toscrape.com/catalogue/page-18.html.\n",
      "Scraping page #19 at url: https://books.toscrape.com/catalogue/page-19.html.\n",
      "Scraping page #20 at url: https://books.toscrape.com/catalogue/page-20.html.\n",
      "Scraping page #21 at url: https://books.toscrape.com/catalogue/page-21.html.\n",
      "Scraping page #22 at url: https://books.toscrape.com/catalogue/page-22.html.\n",
      "Scraping page #23 at url: https://books.toscrape.com/catalogue/page-23.html.\n",
      "Scraping page #24 at url: https://books.toscrape.com/catalogue/page-24.html.\n",
      "Scraping page #25 at url: https://books.toscrape.com/catalogue/page-25.html.\n",
      "Scraping page #26 at url: https://books.toscrape.com/catalogue/page-26.html.\n",
      "Scraping page #27 at url: https://books.toscrape.com/catalogue/page-27.html.\n",
      "Scraping page #28 at url: https://books.toscrape.com/catalogue/page-28.html.\n",
      "Scraping page #29 at url: https://books.toscrape.com/catalogue/page-29.html.\n",
      "Scraping page #30 at url: https://books.toscrape.com/catalogue/page-30.html.\n",
      "Scraping page #31 at url: https://books.toscrape.com/catalogue/page-31.html.\n",
      "Scraping page #32 at url: https://books.toscrape.com/catalogue/page-32.html.\n",
      "Scraping page #33 at url: https://books.toscrape.com/catalogue/page-33.html.\n",
      "Scraping page #34 at url: https://books.toscrape.com/catalogue/page-34.html.\n",
      "Scraping page #35 at url: https://books.toscrape.com/catalogue/page-35.html.\n",
      "Scraping page #36 at url: https://books.toscrape.com/catalogue/page-36.html.\n",
      "Scraping page #37 at url: https://books.toscrape.com/catalogue/page-37.html.\n",
      "Scraping page #38 at url: https://books.toscrape.com/catalogue/page-38.html.\n",
      "Scraping page #39 at url: https://books.toscrape.com/catalogue/page-39.html.\n",
      "Scraping page #40 at url: https://books.toscrape.com/catalogue/page-40.html.\n",
      "Scraping page #41 at url: https://books.toscrape.com/catalogue/page-41.html.\n",
      "Scraping page #42 at url: https://books.toscrape.com/catalogue/page-42.html.\n",
      "Scraping page #43 at url: https://books.toscrape.com/catalogue/page-43.html.\n",
      "Scraping page #44 at url: https://books.toscrape.com/catalogue/page-44.html.\n",
      "Scraping page #45 at url: https://books.toscrape.com/catalogue/page-45.html.\n",
      "Scraping page #46 at url: https://books.toscrape.com/catalogue/page-46.html.\n",
      "Scraping page #47 at url: https://books.toscrape.com/catalogue/page-47.html.\n",
      "Scraping page #48 at url: https://books.toscrape.com/catalogue/page-48.html.\n",
      "Scraping page #49 at url: https://books.toscrape.com/catalogue/page-49.html.\n",
      "Scraping page #50 at url: https://books.toscrape.com/catalogue/page-50.html.\n"
     ]
    }
   ],
   "source": [
    "for page in range(1,51):\n",
    "    \n",
    "    page_url = urljoin(base_url, f'page-{page}.html')\n",
    "    \n",
    "    response = requests.get(page_url)\n",
    "    response.status_code\n",
    "    \n",
    "    if response.status_code == 200:\n",
    "        print(f'Scraping page #{page} at url: {page_url}.')\n",
    "        html = response.content\n",
    "        soup = BeautifulSoup(html, 'lxml')\n",
    "        uls = soup.find_all('li', class_='col-xs-6 col-sm-4 col-md-3 col-lg-3')\n",
    "        pages_titles = []\n",
    "        pages_stars = []\n",
    "        pages_prices = []\n",
    "        page_pic_urls = []\n",
    "        \n",
    "        for ul in uls:\n",
    "            title = ul.find_all('a')[1]['title']\n",
    "            pages_titles.append(title)  \n",
    "        \n",
    "            book_star = retrieve_stars(ul)\n",
    "            pages_stars.append(book_star)\n",
    "            \n",
    "            price = ul.find_all('p')[1].text\n",
    "            pages_prices.append(price)\n",
    "            \n",
    "            pic_url_ending = ul.find_all('img')[0]['src']\n",
    "            full_pic_url = base_url+pic_url_ending\n",
    "            page_pic_urls.append(full_pic_url)\n",
    "            \n",
    "        \n",
    "        titles.extend(pages_titles)\n",
    "        stars.extend(pages_stars)\n",
    "        prices.extend(pages_prices)\n",
    "        pic_urls.extend(page_pic_urls)\n",
    "        \n",
    "    else:\n",
    "        print(f'Url #{i} ({page_url}) is throwing an error. Skipping to url #{i+1}')"
   ]
  },
  {
   "cell_type": "code",
   "execution_count": 55,
   "id": "vocational-people",
   "metadata": {},
   "outputs": [],
   "source": [
    "# Creating table1\n",
    "table1 = pd.DataFrame({'book_id': list(range(100, 100+len(titles))),\n",
    "                       'title': titles,\n",
    "                       'star_rating': stars,\n",
    "                       'price_GBP': prices,\n",
    "                       'pic_url': pic_urls})"
   ]
  },
  {
   "cell_type": "code",
   "execution_count": 56,
   "id": "severe-fortune",
   "metadata": {},
   "outputs": [],
   "source": [
    "# Converting data type of 'price_GBP'\n",
    "table1.price_GBP = table1.price_GBP.map(lambda x: float(x.split('£')[1]))"
   ]
  },
  {
   "cell_type": "code",
   "execution_count": 57,
   "id": "surrounded-connectivity",
   "metadata": {},
   "outputs": [],
   "source": [
    "# Converting prices from GBP to Euro\n",
    "table1['price_EUR'] = round(table1.price_GBP.map(lambda x: x*1.19),2)"
   ]
  },
  {
   "cell_type": "code",
   "execution_count": 58,
   "id": "blessed-frederick",
   "metadata": {},
   "outputs": [
    {
     "data": {
      "text/html": [
       "<div>\n",
       "<style scoped>\n",
       "    .dataframe tbody tr th:only-of-type {\n",
       "        vertical-align: middle;\n",
       "    }\n",
       "\n",
       "    .dataframe tbody tr th {\n",
       "        vertical-align: top;\n",
       "    }\n",
       "\n",
       "    .dataframe thead th {\n",
       "        text-align: right;\n",
       "    }\n",
       "</style>\n",
       "<table border=\"1\" class=\"dataframe\">\n",
       "  <thead>\n",
       "    <tr style=\"text-align: right;\">\n",
       "      <th></th>\n",
       "      <th>book_id</th>\n",
       "      <th>title</th>\n",
       "      <th>star_rating</th>\n",
       "      <th>price_GBP</th>\n",
       "      <th>pic_url</th>\n",
       "      <th>price_EUR</th>\n",
       "    </tr>\n",
       "  </thead>\n",
       "  <tbody>\n",
       "    <tr>\n",
       "      <th>0</th>\n",
       "      <td>100</td>\n",
       "      <td>A Light in the Attic</td>\n",
       "      <td>Three</td>\n",
       "      <td>51.77</td>\n",
       "      <td>https://books.toscrape.com/catalogue/../media/...</td>\n",
       "      <td>61.61</td>\n",
       "    </tr>\n",
       "    <tr>\n",
       "      <th>1</th>\n",
       "      <td>101</td>\n",
       "      <td>Tipping the Velvet</td>\n",
       "      <td>One</td>\n",
       "      <td>53.74</td>\n",
       "      <td>https://books.toscrape.com/catalogue/../media/...</td>\n",
       "      <td>63.95</td>\n",
       "    </tr>\n",
       "    <tr>\n",
       "      <th>2</th>\n",
       "      <td>102</td>\n",
       "      <td>Soumission</td>\n",
       "      <td>One</td>\n",
       "      <td>50.10</td>\n",
       "      <td>https://books.toscrape.com/catalogue/../media/...</td>\n",
       "      <td>59.62</td>\n",
       "    </tr>\n",
       "    <tr>\n",
       "      <th>3</th>\n",
       "      <td>103</td>\n",
       "      <td>Sharp Objects</td>\n",
       "      <td>Four</td>\n",
       "      <td>47.82</td>\n",
       "      <td>https://books.toscrape.com/catalogue/../media/...</td>\n",
       "      <td>56.91</td>\n",
       "    </tr>\n",
       "    <tr>\n",
       "      <th>4</th>\n",
       "      <td>104</td>\n",
       "      <td>Sapiens: A Brief History of Humankind</td>\n",
       "      <td>Five</td>\n",
       "      <td>54.23</td>\n",
       "      <td>https://books.toscrape.com/catalogue/../media/...</td>\n",
       "      <td>64.53</td>\n",
       "    </tr>\n",
       "    <tr>\n",
       "      <th>...</th>\n",
       "      <td>...</td>\n",
       "      <td>...</td>\n",
       "      <td>...</td>\n",
       "      <td>...</td>\n",
       "      <td>...</td>\n",
       "      <td>...</td>\n",
       "    </tr>\n",
       "    <tr>\n",
       "      <th>995</th>\n",
       "      <td>1095</td>\n",
       "      <td>Alice in Wonderland (Alice's Adventures in Won...</td>\n",
       "      <td>One</td>\n",
       "      <td>55.53</td>\n",
       "      <td>https://books.toscrape.com/catalogue/../media/...</td>\n",
       "      <td>66.08</td>\n",
       "    </tr>\n",
       "    <tr>\n",
       "      <th>996</th>\n",
       "      <td>1096</td>\n",
       "      <td>Ajin: Demi-Human, Volume 1 (Ajin: Demi-Human #1)</td>\n",
       "      <td>Four</td>\n",
       "      <td>57.06</td>\n",
       "      <td>https://books.toscrape.com/catalogue/../media/...</td>\n",
       "      <td>67.90</td>\n",
       "    </tr>\n",
       "    <tr>\n",
       "      <th>997</th>\n",
       "      <td>1097</td>\n",
       "      <td>A Spy's Devotion (The Regency Spies of London #1)</td>\n",
       "      <td>Five</td>\n",
       "      <td>16.97</td>\n",
       "      <td>https://books.toscrape.com/catalogue/../media/...</td>\n",
       "      <td>20.19</td>\n",
       "    </tr>\n",
       "    <tr>\n",
       "      <th>998</th>\n",
       "      <td>1098</td>\n",
       "      <td>1st to Die (Women's Murder Club #1)</td>\n",
       "      <td>One</td>\n",
       "      <td>53.98</td>\n",
       "      <td>https://books.toscrape.com/catalogue/../media/...</td>\n",
       "      <td>64.24</td>\n",
       "    </tr>\n",
       "    <tr>\n",
       "      <th>999</th>\n",
       "      <td>1099</td>\n",
       "      <td>1,000 Places to See Before You Die</td>\n",
       "      <td>Five</td>\n",
       "      <td>26.08</td>\n",
       "      <td>https://books.toscrape.com/catalogue/../media/...</td>\n",
       "      <td>31.04</td>\n",
       "    </tr>\n",
       "  </tbody>\n",
       "</table>\n",
       "<p>1000 rows × 6 columns</p>\n",
       "</div>"
      ],
      "text/plain": [
       "     book_id                                              title star_rating  \\\n",
       "0        100                               A Light in the Attic       Three   \n",
       "1        101                                 Tipping the Velvet         One   \n",
       "2        102                                         Soumission         One   \n",
       "3        103                                      Sharp Objects        Four   \n",
       "4        104              Sapiens: A Brief History of Humankind        Five   \n",
       "..       ...                                                ...         ...   \n",
       "995     1095  Alice in Wonderland (Alice's Adventures in Won...         One   \n",
       "996     1096   Ajin: Demi-Human, Volume 1 (Ajin: Demi-Human #1)        Four   \n",
       "997     1097  A Spy's Devotion (The Regency Spies of London #1)        Five   \n",
       "998     1098                1st to Die (Women's Murder Club #1)         One   \n",
       "999     1099                 1,000 Places to See Before You Die        Five   \n",
       "\n",
       "     price_GBP                                            pic_url  price_EUR  \n",
       "0        51.77  https://books.toscrape.com/catalogue/../media/...      61.61  \n",
       "1        53.74  https://books.toscrape.com/catalogue/../media/...      63.95  \n",
       "2        50.10  https://books.toscrape.com/catalogue/../media/...      59.62  \n",
       "3        47.82  https://books.toscrape.com/catalogue/../media/...      56.91  \n",
       "4        54.23  https://books.toscrape.com/catalogue/../media/...      64.53  \n",
       "..         ...                                                ...        ...  \n",
       "995      55.53  https://books.toscrape.com/catalogue/../media/...      66.08  \n",
       "996      57.06  https://books.toscrape.com/catalogue/../media/...      67.90  \n",
       "997      16.97  https://books.toscrape.com/catalogue/../media/...      20.19  \n",
       "998      53.98  https://books.toscrape.com/catalogue/../media/...      64.24  \n",
       "999      26.08  https://books.toscrape.com/catalogue/../media/...      31.04  \n",
       "\n",
       "[1000 rows x 6 columns]"
      ]
     },
     "execution_count": 58,
     "metadata": {},
     "output_type": "execute_result"
    }
   ],
   "source": [
    "table1"
   ]
  },
  {
   "cell_type": "code",
   "execution_count": 59,
   "id": "defined-biotechnology",
   "metadata": {},
   "outputs": [],
   "source": [
    "table1.to_csv('table1.csv')"
   ]
  },
  {
   "cell_type": "code",
   "execution_count": 60,
   "id": "colonial-crest",
   "metadata": {},
   "outputs": [],
   "source": [
    "# Retrieving data for table2"
   ]
  },
  {
   "cell_type": "code",
   "execution_count": 61,
   "id": "collective-addition",
   "metadata": {},
   "outputs": [
    {
     "name": "stdout",
     "output_type": "stream",
     "text": [
      "retrieving text for \"A Light in the Attic\"\n"
     ]
    },
    {
     "ename": "KeyError",
     "evalue": "'output'",
     "output_type": "error",
     "traceback": [
      "\u001b[0;31m---------------------------------------------------------------------------\u001b[0m",
      "\u001b[0;31mKeyError\u001b[0m                                  Traceback (most recent call last)",
      "\u001b[0;32m<ipython-input-61-6669fcc98a1a>\u001b[0m in \u001b[0;36m<module>\u001b[0;34m\u001b[0m\n\u001b[1;32m      5\u001b[0m                       \u001b[0mdata\u001b[0m\u001b[0;34m=\u001b[0m\u001b[0;34m{\u001b[0m\u001b[0;34m'text'\u001b[0m\u001b[0;34m:\u001b[0m \u001b[0;34mf'The text of {title} is'\u001b[0m\u001b[0;34m,\u001b[0m\u001b[0;34m}\u001b[0m\u001b[0;34m,\u001b[0m\u001b[0;34m\u001b[0m\u001b[0;34m\u001b[0m\u001b[0m\n\u001b[1;32m      6\u001b[0m                       headers={'api-key': 'quickstart-QUdJIGlzIGNvbWluZy4uLi4K'})\n\u001b[0;32m----> 7\u001b[0;31m     \u001b[0mtext\u001b[0m \u001b[0;34m=\u001b[0m \u001b[0mr\u001b[0m\u001b[0;34m.\u001b[0m\u001b[0mjson\u001b[0m\u001b[0;34m(\u001b[0m\u001b[0;34m)\u001b[0m\u001b[0;34m[\u001b[0m\u001b[0;34m'output'\u001b[0m\u001b[0;34m]\u001b[0m\u001b[0;34m\u001b[0m\u001b[0;34m\u001b[0m\u001b[0m\n\u001b[0m\u001b[1;32m      8\u001b[0m     \u001b[0mtexts\u001b[0m\u001b[0;34m.\u001b[0m\u001b[0mappend\u001b[0m\u001b[0;34m(\u001b[0m\u001b[0mtext\u001b[0m\u001b[0;34m)\u001b[0m\u001b[0;34m\u001b[0m\u001b[0;34m\u001b[0m\u001b[0m\n\u001b[1;32m      9\u001b[0m \u001b[0;34m\u001b[0m\u001b[0m\n",
      "\u001b[0;31mKeyError\u001b[0m: 'output'"
     ]
    }
   ],
   "source": [
    "texts = []\n",
    "for title in titles:\n",
    "    print(f'retrieving text for \"{title}\"')\n",
    "    r = requests.post('https://api.deepai.org/api/text-generator',\n",
    "                      data={'text': f'The text of {title} is',},\n",
    "                      headers={'api-key': 'quickstart-QUdJIGlzIGNvbWluZy4uLi4K'})\n",
    "    text = r.json()['output']\n",
    "    texts.append(text)\n",
    "    "
   ]
  },
  {
   "cell_type": "code",
   "execution_count": null,
   "id": "planned-georgia",
   "metadata": {},
   "outputs": [],
   "source": [
    "# Creating table2"
   ]
  },
  {
   "cell_type": "code",
   "execution_count": null,
   "id": "earlier-measurement",
   "metadata": {},
   "outputs": [],
   "source": [
    "table2 = pd.DataFrame({'book_id': list(range(100, 100+len(titles))),\n",
    "                       'title': titles,\n",
    "                       'text': [texts])"
   ]
  },
  {
   "cell_type": "code",
   "execution_count": 43,
   "id": "final-titanium",
   "metadata": {},
   "outputs": [
    {
     "data": {
      "text/plain": [
       "{'status': \"Looks like you're enjoying our API. Want to keep using it? Sign up to get an API Key that's as unique as you are. It's free! https://deepai.org/\"}"
      ]
     },
     "execution_count": 43,
     "metadata": {},
     "output_type": "execute_result"
    }
   ],
   "source": [
    "r.json()"
   ]
  },
  {
   "cell_type": "code",
   "execution_count": null,
   "id": "encouraging-porcelain",
   "metadata": {},
   "outputs": [],
   "source": [
    "table2.to_csv('table2.csv')"
   ]
  },
  {
   "cell_type": "code",
   "execution_count": null,
   "id": "placed-fluid",
   "metadata": {},
   "outputs": [],
   "source": []
  },
  {
   "cell_type": "code",
   "execution_count": null,
   "id": "modular-ready",
   "metadata": {},
   "outputs": [],
   "source": [
    "# Retrieving data for table3"
   ]
  },
  {
   "cell_type": "markdown",
   "id": "desirable-times",
   "metadata": {},
   "source": [
    "Notes: \n",
    "- i wanted to use currency_convert in order not to hard-cope the gbp-eur exchange rate\n",
    "- i had found two different APIs that can be used for text translation but they both required a paid plan. If I had had more time, I would have digged further into it\n",
    "- my idea was to create three different tables I would have then used in my db\n",
    "-- table1 (book_id, title, star-rating, pirce_gbp, price_eur, picture_url\n",
    "-- table2 (book_id, title, text)\n",
    "-- table3 (book_id, text_en, text_it, text_fr)"
   ]
  },
  {
   "cell_type": "code",
   "execution_count": null,
   "id": "collectible-grounds",
   "metadata": {},
   "outputs": [],
   "source": []
  },
  {
   "cell_type": "markdown",
   "id": "expressed-anatomy",
   "metadata": {},
   "source": [
    "### DataBase creation"
   ]
  },
  {
   "cell_type": "code",
   "execution_count": null,
   "id": "phantom-words",
   "metadata": {},
   "outputs": [],
   "source": []
  },
  {
   "cell_type": "code",
   "execution_count": null,
   "id": "official-cricket",
   "metadata": {},
   "outputs": [],
   "source": []
  },
  {
   "cell_type": "markdown",
   "id": "expressed-credits",
   "metadata": {},
   "source": [
    "### Querying the database"
   ]
  },
  {
   "cell_type": "code",
   "execution_count": null,
   "id": "extended-charity",
   "metadata": {},
   "outputs": [],
   "source": []
  },
  {
   "cell_type": "code",
   "execution_count": null,
   "id": "alpine-dialogue",
   "metadata": {},
   "outputs": [],
   "source": []
  },
  {
   "cell_type": "markdown",
   "id": "final-participation",
   "metadata": {},
   "source": [
    "### Deployment"
   ]
  },
  {
   "cell_type": "code",
   "execution_count": null,
   "id": "thousand-leather",
   "metadata": {},
   "outputs": [],
   "source": []
  },
  {
   "cell_type": "code",
   "execution_count": null,
   "id": "renewable-business",
   "metadata": {},
   "outputs": [],
   "source": []
  },
  {
   "cell_type": "code",
   "execution_count": null,
   "id": "moved-target",
   "metadata": {},
   "outputs": [],
   "source": []
  },
  {
   "cell_type": "code",
   "execution_count": null,
   "id": "aggregate-marsh",
   "metadata": {},
   "outputs": [],
   "source": []
  },
  {
   "cell_type": "code",
   "execution_count": null,
   "id": "accomplished-barrier",
   "metadata": {},
   "outputs": [],
   "source": []
  }
 ],
 "metadata": {
  "kernelspec": {
   "display_name": "Python 3",
   "language": "python",
   "name": "python3"
  },
  "language_info": {
   "codemirror_mode": {
    "name": "ipython",
    "version": 3
   },
   "file_extension": ".py",
   "mimetype": "text/x-python",
   "name": "python",
   "nbconvert_exporter": "python",
   "pygments_lexer": "ipython3",
   "version": "3.8.2"
  },
  "toc": {
   "base_numbering": 1,
   "nav_menu": {},
   "number_sections": false,
   "sideBar": true,
   "skip_h1_title": true,
   "title_cell": "Table of Contents",
   "title_sidebar": "Contents",
   "toc_cell": true,
   "toc_position": {},
   "toc_section_display": true,
   "toc_window_display": true
  },
  "varInspector": {
   "cols": {
    "lenName": 16,
    "lenType": 16,
    "lenVar": 40
   },
   "kernels_config": {
    "python": {
     "delete_cmd_postfix": "",
     "delete_cmd_prefix": "del ",
     "library": "var_list.py",
     "varRefreshCmd": "print(var_dic_list())"
    },
    "r": {
     "delete_cmd_postfix": ") ",
     "delete_cmd_prefix": "rm(",
     "library": "var_list.r",
     "varRefreshCmd": "cat(var_dic_list()) "
    }
   },
   "types_to_exclude": [
    "module",
    "function",
    "builtin_function_or_method",
    "instance",
    "_Feature"
   ],
   "window_display": false
  }
 },
 "nbformat": 4,
 "nbformat_minor": 5
}
